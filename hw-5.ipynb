{
 "cells": [
  {
   "cell_type": "markdown",
   "metadata": {},
   "source": [
    "# Use Trapezoid, Simpson's Rule, and Romberg integration"
   ]
  },
  {
   "cell_type": "code",
   "execution_count": null,
   "metadata": {},
   "outputs": [],
   "source": [
    "%matplotlib inline\n",
    "import matplotlib.pyplot as plt\n",
    "import numpy as np"
   ]
  },
  {
   "cell_type": "markdown",
   "metadata": {},
   "source": [
    "# Define the function to integrate"
   ]
  },
  {
   "cell_type": "code",
   "execution_count": null,
   "metadata": {},
   "outputs": [],
   "source": [
    "def func(x):\n",
    "    a = -2.0\n",
    "    b = 10.0\n",
    "    \n",
    "    return (np.exp(a*x))*np.cos(b*x)"
   ]
  },
  {
   "cell_type": "markdown",
   "metadata": {},
   "source": [
    "# Define the integral to check answer"
   ]
  },
  {
   "cell_type": "code",
   "execution_count": null,
   "metadata": {},
   "outputs": [],
   "source": [
    "def func_integral(x):\n",
    "    return np.exp(-2*x)*(5*np.sin(10*x)-np.cos(10*x))/52"
   ]
  },
  {
   "cell_type": "markdown",
   "metadata": {},
   "source": [
    "# Define the core of the trapezoid method"
   ]
  },
  {
   "cell_type": "code",
   "execution_count": null,
   "metadata": {},
   "outputs": [],
   "source": [
    "def trapezoid_core(f, x, h):\n",
    "    return 0.5*h*(f(x+h) + f(x))"
   ]
  },
  {
   "cell_type": "markdown",
   "metadata": {},
   "source": [
    "# Define wrapper function to perform trapezoid method"
   ]
  },
  {
   "cell_type": "code",
   "execution_count": null,
   "metadata": {},
   "outputs": [],
   "source": [
    "def trapezoid_method(f,a,b,N):\n",
    "    \n",
    "    # f is function to integrate\n",
    "    # a is lower limit\n",
    "    # b is upper limit\n",
    "    # N is the number of chunks to use\n",
    "    \n",
    "    # define x values for integral\n",
    "    x = np.linspace(a,b,N)\n",
    "    h = x[1]-x[0]\n",
    "    \n",
    "    # define the value of the integral\n",
    "    Fint = 0.0\n",
    "    \n",
    "    # perform the integral using the trapezoid method\n",
    "    for i in range(0,N-1,1):\n",
    "        Fint += trapezoid_core(f,x[i],h)\n",
    "    \n",
    "    # return the answer\n",
    "    return Fint"
   ]
  },
  {
   "cell_type": "markdown",
   "metadata": {},
   "source": [
    "# Define the core of Simpson's method"
   ]
  },
  {
   "cell_type": "code",
   "execution_count": null,
   "metadata": {},
   "outputs": [],
   "source": [
    "def simpsons_core(f, x, h):\n",
    "    return h*( f(x) + 4.*f(x+h) + f(x+2*h))/3."
   ]
  },
  {
   "cell_type": "markdown",
   "metadata": {},
   "source": [
    "# Define a wrapper function for Simpson's method"
   ]
  },
  {
   "cell_type": "code",
   "execution_count": null,
   "metadata": {},
   "outputs": [],
   "source": [
    "def simpsons_method(f,a,b,N):\n",
    "    \n",
    "    # f is function to integrate\n",
    "    # a is lower limit\n",
    "    # b is upper limit\n",
    "    # N is the number of function evaluations to use\n",
    "    # note: number of chunks will be N-1\n",
    "    \n",
    "    # define x values for integral\n",
    "    x = np.linspace(a,b,N)\n",
    "    h = x[1]-x[0]\n",
    "    \n",
    "    # define the value of the integral\n",
    "    Fint = 0.0\n",
    "    \n",
    "    # perform the integral using Simpson's method\n",
    "    for i in range(0,N-2,2):\n",
    "        Fint += simpsons_core(f,x[i],h)\n",
    "        \n",
    "    # apply simpson's over the last interval if N is even\n",
    "    if ((N%2)==0):\n",
    "        Fint += simpsons_core(f, x[-2],0.5*h)\n",
    "    \n",
    "    # return the answer\n",
    "    return Fint"
   ]
  },
  {
   "cell_type": "markdown",
   "metadata": {},
   "source": [
    "# Define the romberg integration core"
   ]
  },
  {
   "cell_type": "code",
   "execution_count": null,
   "metadata": {},
   "outputs": [],
   "source": [
    "def romberg_core(f,a,b,i):\n",
    "    \n",
    "    # find the width of the interval\n",
    "    h = b-a\n",
    "    \n",
    "    # set the increment between new function evaluations\n",
    "    dh = h/2.**(i)\n",
    "    \n",
    "    # set the cofactor\n",
    "    K = h/2.**(i+1)\n",
    "    \n",
    "    # sum the function evaluations\n",
    "    M = 0.0\n",
    "    for j in range(2**i):\n",
    "        M += f(a + 0.5*dh + j*dh)\n",
    "    \n",
    "    return K*M"
   ]
  },
  {
   "cell_type": "markdown",
   "metadata": {},
   "source": [
    "# Define a wrapper function for Romberg"
   ]
  },
  {
   "cell_type": "code",
   "execution_count": null,
   "metadata": {},
   "outputs": [],
   "source": [
    "def romberg_integration(f,a,b,tol):\n",
    "    \n",
    "    i = 0\n",
    "    \n",
    "    # define max number of iterations\n",
    "    imax = 1000\n",
    "    \n",
    "    # Define an error estimate, set to large value\n",
    "    delta = 100.0*np.fabs(tol)\n",
    "    \n",
    "    # set an array of integral answers\n",
    "    I = np.zeros(imax,dtype=float)\n",
    "    \n",
    "    # get zeroth romberg iteration\n",
    "    I[0] = 0.5*(b-a)* (f(a) + f(b))\n",
    "    \n",
    "    # iterate by 1\n",
    "    i += 1\n",
    "    \n",
    "    while(delta>tol):\n",
    "        \n",
    "        # find romberg iteration\n",
    "        I[i] = 0.5*I[i-1] + romberg_core(f,a,b,i)\n",
    "        \n",
    "        # compute new fractional error estimate\n",
    "        delta = np.fabs((I[i] - I[i-1])/I[i])\n",
    "        \n",
    "        print (i, I[i],I[i-1],delta)\n",
    "        if (i >= 20):\n",
    "            print(\"This could take a few mintues, please wait..\")\n",
    "        \n",
    "        if (delta>tol):\n",
    "            i+=1\n",
    "            if(i>imax):\n",
    "                print(\"max iterations reached\")\n",
    "                raise StopIteration('Stopping iterations after ',i)\n",
    "    \n",
    "    return I[i], i"
   ]
  },
  {
   "cell_type": "markdown",
   "metadata": {},
   "source": [
    "# Perform the integration using each method"
   ]
  },
  {
   "cell_type": "code",
   "execution_count": null,
   "metadata": {},
   "outputs": [],
   "source": [
    "lower_bnd = 0.0\n",
    "upper_bnd = np.pi\n",
    "tolerance = 1.0e-6\n",
    "\n",
    "Answer = func_integral(upper_bnd) - func_integral(lower_bnd)\n",
    "print(\"True Answer: \", Answer)\n",
    "\n",
    "\n",
    "\n",
    "# perfrom Trapezoid integration\n",
    "\n",
    "# set variable for trapezoid answer to a high value\n",
    "trap_ans = 10000.\n",
    "\n",
    "trap_intervals = 1\n",
    "\n",
    "while (np.fabs(Answer - trap_ans) > tolerance):\n",
    "    trap_intervals += 1\n",
    "    trap_ans = trapezoid_method(func, lower_bnd, upper_bnd, trap_intervals)\n",
    "\n",
    "print(\"Answer from Trapezoid method: \", trap_ans, \" Required intervals: \", trap_intervals)\n",
    "\n",
    "\n",
    "\n",
    "\n",
    "# perform Simpson's method integration\n",
    "\n",
    "# set variable for Simpson's method answer to a high value\n",
    "simpsons_ans = 10000.\n",
    "\n",
    "simpsons_intervals = 1\n",
    "\n",
    "while (np.fabs(Answer - simpsons_ans) > tolerance):\n",
    "    simpsons_intervals += 1\n",
    "    simpsons_ans = simpsons_method(func, lower_bnd, upper_bnd, simpsons_intervals)\n",
    "\n",
    "print(\"Answer from Simpson's method: \", simpsons_ans, \" Required intervals: \", simpsons_intervals)\n",
    "\n",
    "\n",
    "\n",
    "# perform the Romberg method integration\n",
    "\n",
    "romberg_ans, romberg_intervals = romberg_integration(func, lower_bnd, upper_bnd, tolerance)\n",
    "\n",
    "print(\"Answer from Romberg method: \", romberg_ans, \" Iterations required: \", romberg_intervals)"
   ]
  },
  {
   "cell_type": "code",
   "execution_count": null,
   "metadata": {},
   "outputs": [],
   "source": []
  }
 ],
 "metadata": {
  "kernelspec": {
   "display_name": "Python 3",
   "language": "python",
   "name": "python3"
  },
  "language_info": {
   "codemirror_mode": {
    "name": "ipython",
    "version": 3
   },
   "file_extension": ".py",
   "mimetype": "text/x-python",
   "name": "python",
   "nbconvert_exporter": "python",
   "pygments_lexer": "ipython3",
   "version": "3.8.6"
  }
 },
 "nbformat": 4,
 "nbformat_minor": 4
}
